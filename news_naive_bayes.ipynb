{
 "cells": [
  {
   "cell_type": "code",
   "execution_count": 1,
   "metadata": {},
   "outputs": [],
   "source": [
    "import glob\n",
    "import os\n",
    "import pandas as pd\n",
    "\n",
    "def get_data(dn):\n",
    "    data = {\n",
    "        \"news\":[],\n",
    "        \"ans\":[]\n",
    "    }\n",
    "    # 找到所有資料夾\n",
    "    dirs = glob.glob(os.path.join(dn, \"*\"))\n",
    "    # 找到所有檔案\n",
    "    for d in dirs:\n",
    "        pat = os.path.join(d, \"*.txt\")\n",
    "        fs = glob.glob(pat)     \n",
    "    # 開啟檔案\n",
    "        for fp in fs:\n",
    "            with open(fp, \"r\", encoding=\"utf-8\") as f:\n",
    "                news = f.read()\n",
    "    # 把最後一層的東西拿出來\n",
    "            ans = os.path.split(d)[-1]\n",
    "            data[\"news\"].append(news)\n",
    "            data[\"ans\"].append(ans)\n",
    "    df = pd.DataFrame(data, columns=[\"news\", \"ans\"])\n",
    "    return df\n",
    "    "
   ]
  },
  {
   "cell_type": "code",
   "execution_count": 2,
   "metadata": {},
   "outputs": [],
   "source": [
    "tran_df = get_data(\"chinese_news_trans\")\n",
    "test_df = get_data(\"chinese_news_test\")\n"
   ]
  },
  {
   "cell_type": "code",
   "execution_count": 3,
   "metadata": {},
   "outputs": [
    {
     "data": {
      "text/plain": [
       "{0: '交通',\n",
       " 1: '政治',\n",
       " 2: '教育',\n",
       " 3: '環境',\n",
       " 4: '經濟',\n",
       " 5: '藝術',\n",
       " 6: '計算機',\n",
       " 7: '軍事',\n",
       " 8: '醫藥',\n",
       " 9: '體育'}"
      ]
     },
     "execution_count": 3,
     "metadata": {},
     "output_type": "execute_result"
    }
   ],
   "source": [
    "kind = tran_df[\"ans\"].unique()\n",
    "\n",
    "trans = {k:i for i, k in enumerate(kind)}\n",
    "\n",
    "reverse_trans = {i:k for i, k in enumerate(kind)}\n",
    "reverse_trans"
   ]
  },
  {
   "cell_type": "code",
   "execution_count": 4,
   "metadata": {},
   "outputs": [
    {
     "data": {
      "text/plain": [
       "0       0\n",
       "1       0\n",
       "2       0\n",
       "3       0\n",
       "4       0\n",
       "       ..\n",
       "2632    9\n",
       "2633    9\n",
       "2634    9\n",
       "2635    9\n",
       "2636    9\n",
       "Name: ans, Length: 2637, dtype: int64"
      ]
     },
     "execution_count": 4,
     "metadata": {},
     "output_type": "execute_result"
    }
   ],
   "source": [
    "\n",
    "# unique value count\n",
    "\n",
    "\n",
    "\n",
    "y_tran = tran_df[\"ans\"].replace(trans)\n",
    "y_test = test_df[\"ans\"].replace(trans)\n",
    "\n",
    "y_tran"
   ]
  },
  {
   "cell_type": "code",
   "execution_count": 5,
   "metadata": {},
   "outputs": [
    {
     "name": "stderr",
     "output_type": "stream",
     "text": [
      "Building prefix dict from the default dictionary ...\n",
      "Loading model from cache C:\\Users\\user\\AppData\\Local\\Temp\\jieba.cache\n",
      "Loading model cost 0.693 seconds.\n",
      "Prefix dict has been built successfully.\n"
     ]
    }
   ],
   "source": [
    "import jieba\n",
    "\n",
    "def newscut(s):\n",
    "    # 用空白表示英文語法\n",
    "    s = \" \".join(jieba.cut(s))\n",
    "    s = s.replace(\"\\r\", \"\").replace(\"\\n\", \"\")\n",
    "    return s\n",
    "\n",
    "\n",
    "tran = tran_df[\"news\"].apply(newscut)\n",
    "test = test_df[\"news\"].apply(newscut)"
   ]
  },
  {
   "cell_type": "code",
   "execution_count": 6,
   "metadata": {},
   "outputs": [
    {
     "name": "stdout",
     "output_type": "stream",
     "text": [
      "  (0, 623)\t1\n",
      "  (0, 25511)\t2\n",
      "  (0, 98437)\t4\n",
      "  (0, 38284)\t2\n",
      "  (0, 70743)\t2\n",
      "  (0, 40650)\t2\n",
      "  (0, 34510)\t1\n",
      "  (0, 50393)\t1\n",
      "  (0, 88754)\t1\n",
      "  (0, 45504)\t1\n",
      "  (0, 62908)\t1\n",
      "  (0, 28588)\t1\n",
      "  (0, 81669)\t1\n",
      "  (0, 11988)\t1\n",
      "  (0, 73648)\t1\n",
      "  (0, 89525)\t1\n",
      "  (0, 91723)\t1\n",
      "  (0, 39986)\t1\n",
      "  (0, 86172)\t1\n",
      "  (0, 11904)\t1\n",
      "  (0, 69130)\t1\n",
      "  (0, 40687)\t1\n",
      "  (0, 17738)\t1\n",
      "  (0, 55019)\t1\n",
      "  (0, 18533)\t1\n",
      "  :\t:\n",
      "  (2636, 64330)\t1\n",
      "  (2636, 64336)\t1\n",
      "  (2636, 52999)\t1\n",
      "  (2636, 11655)\t1\n",
      "  (2636, 91857)\t1\n",
      "  (2636, 30612)\t1\n",
      "  (2636, 38027)\t1\n",
      "  (2636, 49671)\t1\n",
      "  (2636, 38036)\t4\n",
      "  (2636, 66775)\t2\n",
      "  (2636, 50730)\t1\n",
      "  (2636, 23436)\t1\n",
      "  (2636, 23460)\t1\n",
      "  (2636, 13626)\t1\n",
      "  (2636, 93726)\t1\n",
      "  (2636, 78546)\t1\n",
      "  (2636, 79029)\t1\n",
      "  (2636, 91911)\t1\n",
      "  (2636, 66770)\t1\n",
      "  (2636, 56539)\t1\n",
      "  (2636, 95153)\t2\n",
      "  (2636, 23123)\t1\n",
      "  (2636, 70733)\t1\n",
      "  (2636, 8321)\t1\n",
      "  (2636, 66769)\t1\n"
     ]
    }
   ],
   "source": [
    "# 答案跟資料都要變成數字\n",
    "from sklearn.feature_extraction.text import CountVectorizer\n",
    "vec = CountVectorizer()\n",
    "x_tran = vec.fit_transform(tran)\n",
    "x_test = vec.transform(test)\n",
    "# 測試資料不做fit\n",
    "print(x_tran)\n"
   ]
  },
  {
   "cell_type": "code",
   "execution_count": 7,
   "metadata": {},
   "outputs": [
    {
     "data": {
      "text/plain": [
       "MultinomialNB(alpha=1.0, class_prior=None, fit_prior=True)"
      ]
     },
     "execution_count": 7,
     "metadata": {},
     "output_type": "execute_result"
    }
   ],
   "source": [
    "# 分群\n",
    "\n",
    "from sklearn.naive_bayes import MultinomialNB\n",
    "clf = MultinomialNB()\n",
    "clf.fit(x_tran, y_tran)\n"
   ]
  },
  {
   "cell_type": "code",
   "execution_count": 8,
   "metadata": {},
   "outputs": [
    {
     "data": {
      "text/plain": [
       "1.0"
      ]
     },
     "execution_count": 8,
     "metadata": {},
     "output_type": "execute_result"
    }
   ],
   "source": [
    "# 預測答案\n",
    "\n",
    "from sklearn.metrics import accuracy_score\n",
    "pre = clf.predict(x_test)\n",
    "accuracy_score(pre, y_test)\n",
    "\n",
    "# 太神啦~~~完全正確"
   ]
  },
  {
   "cell_type": "code",
   "execution_count": 9,
   "metadata": {},
   "outputs": [
    {
     "name": "stdout",
     "output_type": "stream",
     "text": [
      "輸入一篇新聞:中職本季首場「金控大戰」，富邦悍將隊洋投索沙吃定中信兄弟隊，先發七局只被揮出四支安打、失一分，最快球速飆到一百五十五公里，寫下個人加盟中職新高，悍將隊終場三比一獲勝，兄弟吞下開季二連敗。  悍將隊總教練洪一中領軍首勝到手，也是生涯第八百八十五勝，仍居中職史上第一。  索沙去年季中轉戰南韓職棒前，對戰兄弟三連勝、連續廿二局未失分，回鍋中職首戰又讓兄弟打線吃足苦頭，昨天在台中洲際球場前四局讓對手掛零，五局下失掉唯一一分，中斷連廿六局無失分紀錄，仍以優質內容奪下新球季首勝。  索沙真是兄弟剋星，生涯對戰五場投出跨季四連勝，合計卅八局只失四分，包括最近廿九局失一分，防禦率只有零點九五，兄弟必須趕快找出破解之道。  悍將隊面對兄弟三名投手，全場揮出七支安打，高國輝三支二，二局上從兄弟洋投德保拉的手中掃出右外野陽春砲，本季首轟成為致勝一擊；林哲瑄七局上揮出今年首安，也是生涯第五百安紀錄。  德保拉先發七局，被揮出五支安打、失兩分，同樣優質先發吞下本季首敗。  中職今天在台中、桃園球場進行兩場比賽，統一獅隊卅八歲老將潘威倫終於在本季初登板前，簽下兩年合約，接下來兩季月薪分別是四十八萬、五十三萬，總值一千二百一十二萬元，另設立激勵獎金。  潘威倫二○○三年展開職棒生涯，兩年新約平均月薪五十萬五千元，歷年收入（含簽約金）超過一億元，成為中職史上第一人，也是首位談到四月才簽約的球員。  潘威倫今天將在桃園球場對決樂天桃猿隊，挑戰生涯第一百四十四勝紀錄，再拚史上新高。\n",
      "應該是： 體育 類的新聞\n"
     ]
    }
   ],
   "source": [
    "# 輸入介面\n",
    "\n",
    "s = input(\"輸入一篇新聞:\")\n",
    "s = vec.transform([newscut(s)])\n",
    "pre = clf.predict(s)[0]\n",
    "ans = reverse_trans[pre]\n",
    "print(\"應該是：\", ans, \"類的新聞\")"
   ]
  },
  {
   "cell_type": "code",
   "execution_count": 10,
   "metadata": {},
   "outputs": [
    {
     "data": {
      "text/plain": [
       "9"
      ]
     },
     "execution_count": 10,
     "metadata": {},
     "output_type": "execute_result"
    }
   ],
   "source": [
    "# 看其他機率\n",
    "test = vec.transform([newscut(n)])\n",
    "proba = clf.predict_proba(test)[0]\n",
    "proba = list(enumerate(proba))\n",
    "for i, prod in \n"
   ]
  },
  {
   "cell_type": "code",
   "execution_count": null,
   "metadata": {},
   "outputs": [],
   "source": []
  }
 ],
 "metadata": {
  "kernelspec": {
   "display_name": "Python 3",
   "language": "python",
   "name": "python3"
  },
  "language_info": {
   "codemirror_mode": {
    "name": "ipython",
    "version": 3
   },
   "file_extension": ".py",
   "mimetype": "text/x-python",
   "name": "python",
   "nbconvert_exporter": "python",
   "pygments_lexer": "ipython3",
   "version": "3.7.6"
  }
 },
 "nbformat": 4,
 "nbformat_minor": 4
}
