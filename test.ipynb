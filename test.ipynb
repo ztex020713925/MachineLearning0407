{
 "cells": [
  {
   "cell_type": "markdown",
   "metadata": {
    "collapsed": true
   },
   "source": [
    "# MarkDown語法說明\n",
    "## 標題2\n",
    "\n",
    "![圖:XXX](test.png)\n",
    "![圖:XXX](https://imgur.com/wILtugx.png)\n",
    "\n",
    "[超連結](https://www.google.com)\n",
    "\n",
    "姓名|身高|體重\n",
    "Mark|168|88\n",
    "123|178|87\n",
    "\n",
    "[Latex Math 語法](https://en.wikibooks.org/wiki/LaTeX/Mathematics)\n",
    "\n",
    "$ \\frac{1}{2} \\times \\pi R_1^2 $\n",
    "\n",
    "$\n",
    "M = \\begin{bmatrix}\n",
    "       \\frac{5}{6} & \\frac{1}{6} & 0           \\\\[0.3em]\n",
    "       \\frac{5}{6} & 0           & \\frac{1}{6} \\\\[0.3em]\n",
    "       0           & \\frac{5}{6} & \\frac{1}{6}\n",
    "     \\end{bmatrix}\n",
    "$\n"
   ]
  }
 ],
 "metadata": {
  "kernelspec": {
   "display_name": "Python 3",
   "language": "python",
   "name": "python3"
  },
  "language_info": {
   "codemirror_mode": {
    "name": "ipython",
    "version": 3
   },
   "file_extension": ".py",
   "mimetype": "text/x-python",
   "name": "python",
   "nbconvert_exporter": "python",
   "pygments_lexer": "ipython3",
   "version": "3.7.6"
  }
 },
 "nbformat": 4,
 "nbformat_minor": 1
}
