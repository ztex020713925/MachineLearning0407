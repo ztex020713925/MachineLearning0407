{
 "cells": [
  {
   "cell_type": "markdown",
   "metadata": {},
   "source": [
    "# 單純貝氏\n",
    "使用時機：資料量過多"
   ]
  },
  {
   "cell_type": "code",
   "execution_count": 1,
   "metadata": {},
   "outputs": [
    {
     "data": {
      "text/html": [
       "<div>\n",
       "<style scoped>\n",
       "    .dataframe tbody tr th:only-of-type {\n",
       "        vertical-align: middle;\n",
       "    }\n",
       "\n",
       "    .dataframe tbody tr th {\n",
       "        vertical-align: top;\n",
       "    }\n",
       "\n",
       "    .dataframe thead th {\n",
       "        text-align: right;\n",
       "    }\n",
       "</style>\n",
       "<table border=\"1\" class=\"dataframe\">\n",
       "  <thead>\n",
       "    <tr style=\"text-align: right;\">\n",
       "      <th></th>\n",
       "      <th>作者</th>\n",
       "      <th>詩名</th>\n",
       "      <th>內容</th>\n",
       "    </tr>\n",
       "  </thead>\n",
       "  <tbody>\n",
       "    <tr>\n",
       "      <th>0</th>\n",
       "      <td>李白</td>\n",
       "      <td>菩薩蠻·平林漠漠煙如織</td>\n",
       "      <td>平林漠漠煙如織，寒山一帶傷心碧。\\r\\n暝色入高樓，有人樓上愁。玉階空佇立，宿鳥歸飛急。\\r...</td>\n",
       "    </tr>\n",
       "    <tr>\n",
       "      <th>1</th>\n",
       "      <td>李白</td>\n",
       "      <td>把酒問月</td>\n",
       "      <td>青天有月來幾時，我今停杯一問之：人攀明月不可得，月行卻與人相隨？皎如飛鏡臨丹闕，綠煙滅儘清輝...</td>\n",
       "    </tr>\n",
       "    <tr>\n",
       "      <th>2</th>\n",
       "      <td>李白</td>\n",
       "      <td>春思</td>\n",
       "      <td>燕草如碧絲，秦桑低綠枝。當君懷歸日，是妾斷腸時。春風不相識，何事入羅幃。</td>\n",
       "    </tr>\n",
       "    <tr>\n",
       "      <th>3</th>\n",
       "      <td>李白</td>\n",
       "      <td>春夜洛城聞笛</td>\n",
       "      <td>誰家玉笛暗飛聲，散入春風滿洛城。此夜曲中聞折柳，何人不起故園情。</td>\n",
       "    </tr>\n",
       "    <tr>\n",
       "      <th>4</th>\n",
       "      <td>李白</td>\n",
       "      <td>古風 其十九</td>\n",
       "      <td>西上蓮花山，迢迢見明星。(西上 一作：西嶽)素手把芙蓉，虛步躡太清。霓裳曳廣帶，飄拂升天行。...</td>\n",
       "    </tr>\n",
       "    <tr>\n",
       "      <th>...</th>\n",
       "      <td>...</td>\n",
       "      <td>...</td>\n",
       "      <td>...</td>\n",
       "    </tr>\n",
       "    <tr>\n",
       "      <th>2726</th>\n",
       "      <td>白居易</td>\n",
       "      <td>彆元九後詠所懷</td>\n",
       "      <td>零落桐葉雨，蕭條槿花風。悠悠早秋意，生此幽閒中。況與故人彆，中懷正無悰。勿雲不相送，心到青門...</td>\n",
       "    </tr>\n",
       "    <tr>\n",
       "      <th>2727</th>\n",
       "      <td>白居易</td>\n",
       "      <td>早秋曲江感懷</td>\n",
       "      <td>離離暑雲散，嫋嫋涼風起。池上秋又來，荷花半成子。朱顏易銷歇，白日無窮已。人壽不如山，年光急於...</td>\n",
       "    </tr>\n",
       "    <tr>\n",
       "      <th>2728</th>\n",
       "      <td>白居易</td>\n",
       "      <td>東墟晚歇　時退居渭村。</td>\n",
       "      <td>涼風冷露蕭索天，黃蒿紫菊荒涼田。繞塚秋花少顏色，細蟲小蝶飛翻翻。中有騰騰獨行者，手拄漁竿不騎...</td>\n",
       "    </tr>\n",
       "    <tr>\n",
       "      <th>2729</th>\n",
       "      <td>白居易</td>\n",
       "      <td>南秦雪</td>\n",
       "      <td>往歲曾為西邑吏，慣從駱口到南秦。\\r\\n三時雲冷多飛雪，二月山寒少有春。\\r\\n我思舊事猶惆...</td>\n",
       "    </tr>\n",
       "    <tr>\n",
       "      <th>2730</th>\n",
       "      <td>白居易</td>\n",
       "      <td>寄蘄州簟與元九因題六韻　時元九鰥居。</td>\n",
       "      <td>笛竹出蘄春，霜刀劈翠筠。織成雙鎖簟，寄與獨眠人。卷作筒中信，舒為席上珍。滑如鋪薤葉，冷似臥龍...</td>\n",
       "    </tr>\n",
       "  </tbody>\n",
       "</table>\n",
       "<p>2731 rows × 3 columns</p>\n",
       "</div>"
      ],
      "text/plain": [
       "       作者                  詩名  \\\n",
       "0      李白         菩薩蠻·平林漠漠煙如織   \n",
       "1      李白                把酒問月   \n",
       "2      李白                  春思   \n",
       "3      李白              春夜洛城聞笛   \n",
       "4      李白              古風 其十九   \n",
       "...   ...                 ...   \n",
       "2726  白居易             彆元九後詠所懷   \n",
       "2727  白居易              早秋曲江感懷   \n",
       "2728  白居易         東墟晚歇　時退居渭村。   \n",
       "2729  白居易                 南秦雪   \n",
       "2730  白居易  寄蘄州簟與元九因題六韻　時元九鰥居。   \n",
       "\n",
       "                                                     內容  \n",
       "0     平林漠漠煙如織，寒山一帶傷心碧。\\r\\n暝色入高樓，有人樓上愁。玉階空佇立，宿鳥歸飛急。\\r...  \n",
       "1     青天有月來幾時，我今停杯一問之：人攀明月不可得，月行卻與人相隨？皎如飛鏡臨丹闕，綠煙滅儘清輝...  \n",
       "2                  燕草如碧絲，秦桑低綠枝。當君懷歸日，是妾斷腸時。春風不相識，何事入羅幃。  \n",
       "3                      誰家玉笛暗飛聲，散入春風滿洛城。此夜曲中聞折柳，何人不起故園情。  \n",
       "4     西上蓮花山，迢迢見明星。(西上 一作：西嶽)素手把芙蓉，虛步躡太清。霓裳曳廣帶，飄拂升天行。...  \n",
       "...                                                 ...  \n",
       "2726  零落桐葉雨，蕭條槿花風。悠悠早秋意，生此幽閒中。況與故人彆，中懷正無悰。勿雲不相送，心到青門...  \n",
       "2727  離離暑雲散，嫋嫋涼風起。池上秋又來，荷花半成子。朱顏易銷歇，白日無窮已。人壽不如山，年光急於...  \n",
       "2728  涼風冷露蕭索天，黃蒿紫菊荒涼田。繞塚秋花少顏色，細蟲小蝶飛翻翻。中有騰騰獨行者，手拄漁竿不騎...  \n",
       "2729  往歲曾為西邑吏，慣從駱口到南秦。\\r\\n三時雲冷多飛雪，二月山寒少有春。\\r\\n我思舊事猶惆...  \n",
       "2730  笛竹出蘄春，霜刀劈翠筠。織成雙鎖簟，寄與獨眠人。卷作筒中信，舒為席上珍。滑如鋪薤葉，冷似臥龍...  \n",
       "\n",
       "[2731 rows x 3 columns]"
      ]
     },
     "execution_count": 1,
     "metadata": {},
     "output_type": "execute_result"
    }
   ],
   "source": [
    "# 單純貝氏\n",
    "\n",
    "import pandas as pd\n",
    "train_df = pd.read_csv(\"poem_train.csv\", encoding=\"utf-8\")\n",
    "test_df = pd.read_csv(\"poem_test.csv\", encoding=\"utf-8\")\n",
    "\n",
    "train_df"
   ]
  },
  {
   "cell_type": "code",
   "execution_count": 2,
   "metadata": {},
   "outputs": [
    {
     "data": {
      "text/plain": [
       "{0: '李白', 1: '杜甫', 2: '白居易'}"
      ]
     },
     "execution_count": 2,
     "metadata": {},
     "output_type": "execute_result"
    }
   ],
   "source": [
    "# 答案的部分\n",
    "# 傳進去必須是數字，答案:0,1,2\n",
    "\n",
    "trains = {\n",
    "    \"李白\":0,\n",
    "    \"杜甫\":1,\n",
    "    \"白居易\":2 \n",
    "}\n",
    "# 反向字典\n",
    "reverse_trains = {v:k for k, v in trains.items()}\n",
    "reverse_trains"
   ]
  },
  {
   "cell_type": "code",
   "execution_count": 3,
   "metadata": {},
   "outputs": [],
   "source": [
    "y_train = train_df[\"作者\"].replace(trains)\n",
    "y_test = test_df[\"作者\"].replace(trains)"
   ]
  },
  {
   "cell_type": "code",
   "execution_count": 4,
   "metadata": {},
   "outputs": [
    {
     "name": "stderr",
     "output_type": "stream",
     "text": [
      "Building prefix dict from the default dictionary ...\n",
      "Loading model from cache C:\\Users\\user\\AppData\\Local\\Temp\\jieba.cache\n",
      "Loading model cost 0.672 seconds.\n",
      "Prefix dict has been built successfully.\n"
     ]
    },
    {
     "data": {
      "text/plain": [
       "'平林 漠漠 煙如織 ， 寒山 一帶 傷心 碧 。  暝 色入 高樓 ， 有人 樓上 愁 。'"
      ]
     },
     "execution_count": 4,
     "metadata": {},
     "output_type": "execute_result"
    }
   ],
   "source": [
    "# 結巴\n",
    "# https://github.com/fxsjy/jieba\n",
    "# 分詞範例\n",
    "\n",
    "import jieba\n",
    "s = \"平林漠漠煙如織，寒山一帶傷心碧。\\r\\n暝色入高樓，有人樓上愁。\"\n",
    "s = \" \".join(jieba.cut(s))\n",
    "s = s.replace(\"\\r\", \"\").replace(\"\\n\", \"\")\n",
    "s"
   ]
  },
  {
   "cell_type": "code",
   "execution_count": 5,
   "metadata": {},
   "outputs": [],
   "source": [
    "# pandas \"serise.apply\"一維的\n",
    "\n",
    "def poemcut(s):\n",
    "    # 用空白表示英文語法\n",
    "    s = \" \".join(jieba.cut(s))\n",
    "    s = s.replace(\"\\r\", \"\").replace(\"\\n\", \"\")\n",
    "    return s\n",
    "\n",
    "\n",
    "train = train_df[\"內容\"].apply(poemcut)\n",
    "test = test_df[\"內容\"].apply(poemcut)\n",
    "\n"
   ]
  },
  {
   "cell_type": "code",
   "execution_count": 6,
   "metadata": {},
   "outputs": [],
   "source": [
    "# 把資料轉換成出現幾次，為了要丟到涵式庫做運算\n",
    "# 答案跟資料都要變成數字\n",
    "\n",
    "from sklearn.feature_extraction.text import CountVectorizer\n",
    "vec = CountVectorizer()\n",
    "x_train = vec.fit_transform(train)\n",
    "x_test = vec.transform(test)\n",
    "# 測試資料不做fit"
   ]
  },
  {
   "cell_type": "code",
   "execution_count": 10,
   "metadata": {},
   "outputs": [
    {
     "data": {
      "text/plain": [
       "'連短亭'"
      ]
     },
     "execution_count": 10,
     "metadata": {},
     "output_type": "execute_result"
    }
   ],
   "source": [
    "# 看字典，出現次數\n",
    "reverse_voca = {v:k for k, v in vec.vocabulary_.items()}\n",
    "# 查找用\n",
    "reverse_voca[44987]\n",
    "\n",
    "# 第二行就是出現幾次"
   ]
  },
  {
   "cell_type": "code",
   "execution_count": 7,
   "metadata": {
    "scrolled": true
   },
   "outputs": [
    {
     "name": "stdout",
     "output_type": "stream",
     "text": [
      "  (0, 16053)\t1\n",
      "  (0, 29006)\t1\n",
      "  (0, 30177)\t1\n",
      "  (0, 14002)\t1\n",
      "  (0, 139)\t1\n",
      "  (0, 4756)\t1\n",
      "  (0, 39345)\t1\n",
      "  (0, 51400)\t1\n",
      "  (0, 23289)\t1\n",
      "  (0, 25180)\t1\n",
      "  (0, 31382)\t1\n",
      "  (0, 3549)\t1\n",
      "  (0, 13846)\t1\n",
      "  (0, 50568)\t1\n",
      "  (0, 3797)\t1\n",
      "  (0, 26005)\t1\n",
      "  (0, 44987)\t2\n",
      "  (0, 34)\t1\n",
      "  (0, 33975)\t1\n",
      "  (1, 49338)\t1\n",
      "  (1, 16293)\t1\n",
      "  (1, 19165)\t1\n",
      "  (1, 4540)\t1\n",
      "  (1, 85)\t1\n",
      "  (1, 2776)\t1\n",
      "  :\t:\n",
      "  (2729, 8800)\t1\n",
      "  (2729, 6485)\t1\n",
      "  (2729, 3060)\t1\n",
      "  (2730, 25782)\t1\n",
      "  (2730, 6026)\t1\n",
      "  (2730, 36958)\t1\n",
      "  (2730, 15905)\t1\n",
      "  (2730, 44854)\t1\n",
      "  (2730, 29458)\t1\n",
      "  (2730, 2175)\t1\n",
      "  (2730, 31125)\t1\n",
      "  (2730, 40974)\t1\n",
      "  (2730, 35446)\t1\n",
      "  (2730, 49196)\t1\n",
      "  (2730, 6770)\t1\n",
      "  (2730, 48596)\t1\n",
      "  (2730, 7813)\t1\n",
      "  (2730, 1714)\t1\n",
      "  (2730, 39190)\t1\n",
      "  (2730, 28820)\t1\n",
      "  (2730, 38489)\t1\n",
      "  (2730, 28423)\t1\n",
      "  (2730, 51689)\t1\n",
      "  (2730, 8048)\t1\n",
      "  (2730, 23226)\t1\n"
     ]
    }
   ],
   "source": [
    "print(x_train)\n",
    "\n",
    "# 第二行就是出現幾次"
   ]
  },
  {
   "cell_type": "markdown",
   "metadata": {},
   "source": [
    "## 稍微注意檢查一下，有沒有被去掉\n",
    "vec.vocabulary_[\"。\"]<br />\n",
    "vec.vocabulary_[\"，\"]<br />\n",
    "vec.vocabulary_[\" \"]"
   ]
  },
  {
   "cell_type": "markdown",
   "metadata": {},
   "source": [
    "# Gaussian Naive Baye\n",
    "使用時機：資料特徵是連續的<br />\n",
    "把看到的連續數值，去做常態分布擬合<br />\n",
    "EX>>鳶尾花\n",
    "# Multinomial Naive Bayes\n",
    "使用時機：骰子問題，最常用<br />\n",
    "運算式像多項式\n",
    "# Bernoulli Naive Bayes\n",
    "使用時機：特徵是二值<br />\n",
    "機率不是P，就是1-P<br />\n",
    "可以當成二值的Multinomial"
   ]
  },
  {
   "cell_type": "code",
   "execution_count": 11,
   "metadata": {},
   "outputs": [
    {
     "data": {
      "text/plain": [
       "MultinomialNB(alpha=1.0, class_prior=None, fit_prior=True)"
      ]
     },
     "execution_count": 11,
     "metadata": {},
     "output_type": "execute_result"
    }
   ],
   "source": [
    "# 分群\n",
    "\n",
    "from sklearn.naive_bayes import MultinomialNB\n",
    "clf = MultinomialNB()\n",
    "clf.fit(x_train, y_train)\n",
    "\n",
    "# 下面的 alpha=1.0 做一個 Lapaace Smoothing 不讓沒出現過的詞彙影響機率，使其維為 0"
   ]
  },
  {
   "cell_type": "code",
   "execution_count": 12,
   "metadata": {},
   "outputs": [
    {
     "data": {
      "text/plain": [
       "0.8"
      ]
     },
     "execution_count": 12,
     "metadata": {},
     "output_type": "execute_result"
    }
   ],
   "source": [
    "# 預測答案\n",
    "\n",
    "from sklearn.metrics import accuracy_score\n",
    "pre = clf.predict(x_test)\n",
    "accuracy_score(pre, y_test)\n",
    "\n",
    "# 80%正確"
   ]
  },
  {
   "cell_type": "code",
   "execution_count": 17,
   "metadata": {},
   "outputs": [
    {
     "data": {
      "text/html": [
       "<div>\n",
       "<style scoped>\n",
       "    .dataframe tbody tr th:only-of-type {\n",
       "        vertical-align: middle;\n",
       "    }\n",
       "\n",
       "    .dataframe tbody tr th {\n",
       "        vertical-align: top;\n",
       "    }\n",
       "\n",
       "    .dataframe thead th {\n",
       "        text-align: right;\n",
       "    }\n",
       "</style>\n",
       "<table border=\"1\" class=\"dataframe\">\n",
       "  <thead>\n",
       "    <tr style=\"text-align: right;\">\n",
       "      <th></th>\n",
       "      <th>李白(預測)</th>\n",
       "      <th>杜甫(預測)</th>\n",
       "      <th>白居易(預測)</th>\n",
       "    </tr>\n",
       "  </thead>\n",
       "  <tbody>\n",
       "    <tr>\n",
       "      <th>李白(正確答案)</th>\n",
       "      <td>8</td>\n",
       "      <td>1</td>\n",
       "      <td>1</td>\n",
       "    </tr>\n",
       "    <tr>\n",
       "      <th>杜甫(正確答案)</th>\n",
       "      <td>1</td>\n",
       "      <td>8</td>\n",
       "      <td>1</td>\n",
       "    </tr>\n",
       "    <tr>\n",
       "      <th>白居易(正確答案)</th>\n",
       "      <td>1</td>\n",
       "      <td>1</td>\n",
       "      <td>8</td>\n",
       "    </tr>\n",
       "  </tbody>\n",
       "</table>\n",
       "</div>"
      ],
      "text/plain": [
       "           李白(預測)  杜甫(預測)  白居易(預測)\n",
       "李白(正確答案)        8       1        1\n",
       "杜甫(正確答案)        1       8        1\n",
       "白居易(正確答案)       1       1        8"
      ]
     },
     "execution_count": 17,
     "metadata": {},
     "output_type": "execute_result"
    }
   ],
   "source": [
    "# 混淆矩陣\n",
    "\n",
    "from sklearn.metrics import confusion_matrix\n",
    "mat = confusion_matrix(y_test, pre)\n",
    "ori = [\"李白\", \"杜甫\", \"白居易\"]\n",
    "c = [\"{}(預測)\".format(s) for s in ori]\n",
    "i = [\"{}(正確答案)\".format(s) for s in ori]\n",
    "pd.DataFrame(mat,\n",
    "             columns=c,\n",
    "             index=i)"
   ]
  },
  {
   "cell_type": "code",
   "execution_count": 3,
   "metadata": {},
   "outputs": [
    {
     "name": "stdout",
     "output_type": "stream",
     "text": [
      "輸入一首詩:黃河之水天上來\n"
     ]
    },
    {
     "ename": "NameError",
     "evalue": "name 'vec' is not defined",
     "traceback": [
      "\u001b[1;31m---------------------------------------------------------------------------\u001b[0m",
      "\u001b[1;31mNameError\u001b[0m                                 Traceback (most recent call last)",
      "\u001b[1;32m<ipython-input-3-f18a002a0766>\u001b[0m in \u001b[0;36m<module>\u001b[1;34m\u001b[0m\n\u001b[0;32m      1\u001b[0m \u001b[0ms\u001b[0m \u001b[1;33m=\u001b[0m \u001b[0minput\u001b[0m\u001b[1;33m(\u001b[0m\u001b[1;34m\"輸入一首詩:\"\u001b[0m\u001b[1;33m)\u001b[0m\u001b[1;33m\u001b[0m\u001b[1;33m\u001b[0m\u001b[0m\n\u001b[1;32m----> 2\u001b[1;33m \u001b[0ms\u001b[0m \u001b[1;33m=\u001b[0m \u001b[0mvec\u001b[0m\u001b[1;33m.\u001b[0m\u001b[0mtransform\u001b[0m\u001b[1;33m(\u001b[0m\u001b[1;33m[\u001b[0m\u001b[0mpoemcut\u001b[0m\u001b[1;33m(\u001b[0m\u001b[0ms\u001b[0m\u001b[1;33m)\u001b[0m\u001b[1;33m]\u001b[0m\u001b[1;33m)\u001b[0m\u001b[1;33m\u001b[0m\u001b[1;33m\u001b[0m\u001b[0m\n\u001b[0m\u001b[0;32m      3\u001b[0m \u001b[0mpre\u001b[0m \u001b[1;33m=\u001b[0m \u001b[0mclf\u001b[0m\u001b[1;33m.\u001b[0m\u001b[0mpredict\u001b[0m\u001b[1;33m(\u001b[0m\u001b[0ms\u001b[0m\u001b[1;33m)\u001b[0m\u001b[1;33m[\u001b[0m\u001b[1;36m0\u001b[0m\u001b[1;33m]\u001b[0m\u001b[1;33m\u001b[0m\u001b[1;33m\u001b[0m\u001b[0m\n\u001b[0;32m      4\u001b[0m \u001b[0mans\u001b[0m \u001b[1;33m=\u001b[0m \u001b[0mreverse_trans\u001b[0m\u001b[1;33m[\u001b[0m\u001b[0mpre\u001b[0m\u001b[1;33m]\u001b[0m\u001b[1;33m\u001b[0m\u001b[1;33m\u001b[0m\u001b[0m\n\u001b[0;32m      5\u001b[0m \u001b[0mprint\u001b[0m\u001b[1;33m(\u001b[0m\u001b[1;34m\"應該是誰:\"\u001b[0m\u001b[1;33m,\u001b[0m \u001b[0mans\u001b[0m\u001b[1;33m)\u001b[0m\u001b[1;33m\u001b[0m\u001b[1;33m\u001b[0m\u001b[0m\n",
      "\u001b[1;31mNameError\u001b[0m: name 'vec' is not defined"
     ],
     "output_type": "error"
    }
   ],
   "source": [
    "\n",
    "s = input(\"輸入一首詩:\")\n",
    "s = vec.transform([poemcut(s)])\n",
    "pre = clf.predict(s)[0]\n",
    "ans = reverse_trans[pre]\n",
    "print(\"應該是誰:\", ans)"
   ]
  },
  {
   "cell_type": "markdown",
   "metadata": {},
   "source": [
    "# 實際應用\n",
    "垃圾信檢測\n",
    "# 重點\n",
    "## 不需要自己去決定重要性\n",
    "## Smoothing：不讓機率為0"
   ]
  }
 ],
 "metadata": {
  "kernelspec": {
   "display_name": "Python 3",
   "language": "python",
   "name": "python3"
  },
  "language_info": {
   "codemirror_mode": {
    "name": "ipython",
    "version": 3
   },
   "file_extension": ".py",
   "mimetype": "text/x-python",
   "name": "python",
   "nbconvert_exporter": "python",
   "pygments_lexer": "ipython3",
   "version": "3.7.6"
  }
 },
 "nbformat": 4,
 "nbformat_minor": 4
}
